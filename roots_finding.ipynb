{
  "nbformat": 4,
  "nbformat_minor": 0,
  "metadata": {
    "colab": {
      "provenance": [],
      "authorship_tag": "ABX9TyOKRwFPCFawRpEp4rLMMUjL",
      "include_colab_link": true
    },
    "kernelspec": {
      "name": "python3",
      "display_name": "Python 3"
    },
    "language_info": {
      "name": "python"
    }
  },
  "cells": [
    {
      "cell_type": "markdown",
      "metadata": {
        "id": "view-in-github",
        "colab_type": "text"
      },
      "source": [
        "<a href=\"https://colab.research.google.com/github/newmantic/roots_finding/blob/main/roots_finding.ipynb\" target=\"_parent\"><img src=\"https://colab.research.google.com/assets/colab-badge.svg\" alt=\"Open In Colab\"/></a>"
      ]
    },
    {
      "cell_type": "code",
      "execution_count": 1,
      "metadata": {
        "colab": {
          "base_uri": "https://localhost:8080/"
        },
        "id": "vlE8G0zSgsA5",
        "outputId": "b5697c22-7a6e-406c-dc73-c01b08a4f6b9"
      },
      "outputs": [
        {
          "output_type": "stream",
          "name": "stdout",
          "text": [
            "Root found by Newton's method: [1.51748991 1.30277564]\n"
          ]
        }
      ],
      "source": [
        "import numpy as np\n",
        "from scipy.linalg import inv\n",
        "\n",
        "def newton_multidimensional(f, jacobian, x0, tol=1e-8, max_iter=100):\n",
        "    \"\"\"\n",
        "    Newton's method for finding roots of a system of nonlinear equations.\n",
        "\n",
        "    :param f: Function that returns the system of equations as an array.\n",
        "    :param jacobian: Function that returns the Jacobian matrix.\n",
        "    :param x0: Initial guess for the roots.\n",
        "    :param tol: Tolerance for convergence.\n",
        "    :param max_iter: Maximum number of iterations.\n",
        "    :return: Approximate solution as an array.\n",
        "    \"\"\"\n",
        "    x = x0\n",
        "    for i in range(max_iter):\n",
        "        J = jacobian(x)\n",
        "        f_x = f(x)\n",
        "        delta_x = np.linalg.solve(J, -f_x)\n",
        "        x = x + delta_x\n",
        "        if np.linalg.norm(delta_x) < tol:\n",
        "            return x\n",
        "    raise ValueError(\"Newton's method did not converge\")\n",
        "\n",
        "# Example system of equations\n",
        "def f_example(x):\n",
        "    return np.array([\n",
        "        x[0]**2 + x[1]**2 - 4,\n",
        "        x[0]**2 - x[1] - 1\n",
        "    ])\n",
        "\n",
        "def jacobian_example(x):\n",
        "    return np.array([\n",
        "        [2*x[0], 2*x[1]],\n",
        "        [2*x[0], -1]\n",
        "    ])\n",
        "\n",
        "# Initial guess\n",
        "x0 = np.array([1.0, 1.0])\n",
        "\n",
        "# Solve the system\n",
        "root = newton_multidimensional(f_example, jacobian_example, x0)\n",
        "print(\"Root found by Newton's method:\", root)"
      ]
    },
    {
      "cell_type": "code",
      "source": [
        "def broyden_multidimensional(f, x0, tol=1e-8, max_iter=100):\n",
        "    \"\"\"\n",
        "    Broyden's method for finding roots of a system of nonlinear equations.\n",
        "\n",
        "    :param f: Function that returns the system of equations as an array.\n",
        "    :param x0: Initial guess for the roots.\n",
        "    :param tol: Tolerance for convergence.\n",
        "    :param max_iter: Maximum number of iterations.\n",
        "    :return: Approximate solution as an array.\n",
        "    \"\"\"\n",
        "    x = x0\n",
        "    n = len(x)\n",
        "    B = np.eye(n)  # Initial approximation of Jacobian (identity matrix)\n",
        "    f_x = f(x)\n",
        "\n",
        "    for i in range(max_iter):\n",
        "        delta_x = np.linalg.solve(B, -f_x)\n",
        "        x_new = x + delta_x\n",
        "        f_x_new = f(x_new)\n",
        "\n",
        "        if np.linalg.norm(delta_x) < tol:\n",
        "            return x_new\n",
        "\n",
        "        # Broyden's update formula for the Jacobian approximation\n",
        "        y = f_x_new - f_x\n",
        "        B = B + np.outer((y - B @ delta_x), delta_x) / np.dot(delta_x, delta_x)\n",
        "\n",
        "        x = x_new\n",
        "        f_x = f_x_new\n",
        "\n",
        "    raise ValueError(\"Broyden's method did not converge\")\n",
        "\n",
        "# Solve the system using Broyden's method\n",
        "root_broyden = broyden_multidimensional(f_example, x0)\n",
        "print(\"Root found by Broyden's method:\", root_broyden)"
      ],
      "metadata": {
        "colab": {
          "base_uri": "https://localhost:8080/"
        },
        "id": "YwVHuq_thC1B",
        "outputId": "72d076a8-bf7d-4d7c-ff32-a0c4d8814c88"
      },
      "execution_count": 2,
      "outputs": [
        {
          "output_type": "stream",
          "name": "stdout",
          "text": [
            "Root found by Broyden's method: [1.51748991 1.30277564]\n"
          ]
        }
      ]
    },
    {
      "cell_type": "code",
      "source": [
        "def test_case_1():\n",
        "    def f_system(x):\n",
        "        return np.array([\n",
        "            np.sin(x[0]) - x[1]**2,\n",
        "            x[0] + np.cos(x[1]) - 1\n",
        "        ])\n",
        "\n",
        "    def jacobian_system(x):\n",
        "        return np.array([\n",
        "            [np.cos(x[0]), -2*x[1]],\n",
        "            [1, -np.sin(x[1])]\n",
        "        ])\n",
        "\n",
        "    x0 = np.array([0.5, 0.5])\n",
        "\n",
        "    # Using Newton's method\n",
        "    root_newton = newton_multidimensional(f_system, jacobian_system, x0)\n",
        "    print(\"Root found by Newton's method for test case 1:\", root_newton)\n",
        "\n",
        "    # Using Broyden's method\n",
        "    root_broyden = broyden_multidimensional(f_system, x0)\n",
        "    print(\"Root found by Broyden's method for test case 1:\", root_broyden)\n",
        "\n",
        "test_case_1()"
      ],
      "metadata": {
        "colab": {
          "base_uri": "https://localhost:8080/"
        },
        "id": "lpJmrNCkhH-f",
        "outputId": "553d5c8c-b8f6-40c6-901b-ab0e10aff670"
      },
      "execution_count": 3,
      "outputs": [
        {
          "output_type": "stream",
          "name": "stdout",
          "text": [
            "Root found by Newton's method for test case 1: [8.97997406e-18 1.00948478e-08]\n",
            "Root found by Broyden's method for test case 1: [7.22447613e-17 1.89568247e-08]\n"
          ]
        }
      ]
    },
    {
      "cell_type": "code",
      "source": [
        "def test_case_2():\n",
        "    def f_system(x):\n",
        "        return np.array([\n",
        "            x[0]**3 - 3*x[0]*x[1]**2 - 1,\n",
        "            3*x[0]**2*x[1] - x[1]**3\n",
        "        ])\n",
        "\n",
        "    def jacobian_system(x):\n",
        "        return np.array([\n",
        "            [3*x[0]**2 - 3*x[1]**2, -6*x[0]*x[1]],\n",
        "            [6*x[0]*x[1], 3*x[0]**2 - 3*x[1]**2]\n",
        "        ])\n",
        "\n",
        "    x0 = np.array([1.0, 1.0])\n",
        "\n",
        "    # Using Newton's method\n",
        "    root_newton = newton_multidimensional(f_system, jacobian_system, x0)\n",
        "    print(\"Root found by Newton's method for test case 2:\", root_newton)\n",
        "\n",
        "    # Using Broyden's method\n",
        "    root_broyden = broyden_multidimensional(f_system, x0)\n",
        "    print(\"Root found by Broyden's method for test case 2:\", root_broyden)\n",
        "\n",
        "test_case_2()"
      ],
      "metadata": {
        "colab": {
          "base_uri": "https://localhost:8080/"
        },
        "id": "-okSN_1khLMI",
        "outputId": "5216f32e-a373-41a5-bce5-35b46f7b50f4"
      },
      "execution_count": 4,
      "outputs": [
        {
          "output_type": "stream",
          "name": "stdout",
          "text": [
            "Root found by Newton's method for test case 2: [1.00000000e+00 4.93038066e-31]\n",
            "Root found by Broyden's method for test case 2: [1.00000000e+00 2.79766354e-17]\n"
          ]
        }
      ]
    }
  ]
}